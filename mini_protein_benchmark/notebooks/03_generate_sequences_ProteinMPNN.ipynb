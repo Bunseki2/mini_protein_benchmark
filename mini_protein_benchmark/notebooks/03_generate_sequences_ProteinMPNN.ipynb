{
 "cells": [
  {
   "cell_type": "markdown",
   "id": "97cd6a6c",
   "metadata": {},
   "source": [
    "# ProteinMPNN Sequence Generation (requires external setup)"
   ]
  },
  {
   "cell_type": "code",
   "execution_count": null,
   "id": "4c877222",
   "metadata": {},
   "outputs": [],
   "source": [
    "# Assumes ProteinMPNN repository is cloned and set up.\n",
    "# Requires input backbones in '../data/backbones/'.\n",
    "# For demo purposes, use ProteinMPNN to generate sequences using default script.\n",
    "# Example command to run (edit as needed):\n",
    "# !python ./protein_mpnn_run.py --pdb_path ../data/backbones/example.pdb \\\n",
    "#     --save_dir ../data/generated_sequences/ --num_seq_per_target 10"
   ]
  }
 ],
 "metadata": {},
 "nbformat": 4,
 "nbformat_minor": 5
}
