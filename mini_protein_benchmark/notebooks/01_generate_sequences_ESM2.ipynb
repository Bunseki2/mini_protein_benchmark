{
 "cells": [
  {
   "cell_type": "markdown",
   "id": "9e74d3d2",
   "metadata": {},
   "source": [
    "# ESM-2 Sequence Generation"
   ]
  },
  {
   "cell_type": "code",
   "execution_count": null,
   "id": "7f20e194",
   "metadata": {},
   "outputs": [],
   "source": [
    "from transformers import EsmForProteinFolding, EsmTokenizer\n",
    "import torch, random\n",
    "model_id = 'facebook/esm2_t36_3B_UR50D'\n",
    "tokenizer = EsmTokenizer.from_pretrained(model_id)\n",
    "model = EsmForProteinFolding.from_pretrained(model_id)\n",
    "model.eval()\n",
    "vocab = list('ACDEFGHIKLMNPQRSTVWY')\n",
    "def generate_random_seq(length=50):\n",
    "    return ''.join(random.choices(vocab, k=length))\n",
    "sequences_esm2 = [generate_random_seq(50) for _ in range(10)]\n",
    "with open('../data/generated_sequences/esm2.fasta', 'w') as f:\n",
    "    for i, seq in enumerate(sequences_esm2):\n",
    "        f.write(f'>ESM2_{i}\\n{seq}\\n')"
   ]
  }
 ],
 "metadata": {},
 "nbformat": 4,
 "nbformat_minor": 5
}
