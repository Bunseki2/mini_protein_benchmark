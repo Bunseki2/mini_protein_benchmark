# ESM-2 Sequence Generation
