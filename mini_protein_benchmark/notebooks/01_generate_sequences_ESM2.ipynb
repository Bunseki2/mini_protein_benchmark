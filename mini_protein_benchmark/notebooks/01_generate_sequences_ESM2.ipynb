{
 "cells": [
  {
   "cell_type": "markdown",
   "metadata": {},
   "source": ["# ESM-2 Sequence Generation"]
  },
  {
   "cell_type": "code",
   "metadata": {},
   "outputs": [],
   "source": [
    "from transformers import EsmForProteinFolding, EsmTokenizer\n",
    "import torch, random\n",
    "\n",
    "model_id = 'facebook/esm2_t36_3B_UR50D'\n",
    "tokenizer = EsmTokenizer.from_pretrained(model_id)\n",
    "model = EsmForProteinFolding.from_pretrained(model_id)\n",
    "model.eval()\n",
    "\n",
    "vocab = list('ACDEFGHIKLMNPQRSTVWY')\n",
    "def generate_random_seq(length=50):\n",
    "    return ''.join(random.choices(vocab, k=length))\n",
    "\n",
    "sequences_esm2 = [generate_random_seq(50) for _ in range(10)]\n",
    "\n",
    "with open('../data/generated_sequences/esm2.fasta', 'w') as f:\n",
    "    for i, seq in enumerate(sequences_esm2):\n",
    "        f.write(f'>ESM2_{i}\\n{seq}\\n')"
   ]
  }
 ],
 "metadata": {},
 "nbformat": 4,
 "nbformat_minor": 2
}
