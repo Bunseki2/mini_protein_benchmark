{
 "cells": [
  {
   "cell_type": "markdown",
   "metadata": {},
   "source": ["# ProtT5 Sequence Generation"]
  },
  {
   "cell_type": "code",
   "metadata": {},
   "outputs": [],
   "source": [
    "from transformers import T5Tokenizer, T5ForConditionalGeneration\n",
    "tokenizer = T5Tokenizer.from_pretrained('Rostlab/ProtT5-XL-UniRef50')\n",
    "model = T5ForConditionalGeneration.from_pretrained('Rostlab/ProtT5-XL-UniRef50')\n",
    "\n",
    "prompt = 'Generate a stable protein sequence of 50 aa'\n",
    "input_ids = tokenizer(prompt, return_tensors='pt').input_ids\n",
    "outputs = model.generate(input_ids, max_length=70, do_sample=True, top_k=50, num_return_sequences=10)\n",
    "sequences = tokenizer.batch_decode(outputs, skip_special_tokens=True)\n",
    "\n",
    "with open('../data/generated_sequences/prott5.fasta', 'w') as f:\n",
    "    for i, seq in enumerate(sequences):\n",
    "        f.write(f'>ProtT5_{i}\\n{seq.replace(" ", "")}\\n')"
   ]
  }
 ],
 "metadata": {},
 "nbformat": 4,
 "nbformat_minor": 2
}
